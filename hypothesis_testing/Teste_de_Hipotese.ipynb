{
  "nbformat": 4,
  "nbformat_minor": 0,
  "metadata": {
    "colab": {
      "name": "Teste-de-Hipotese.ipynb",
      "provenance": [],
      "collapsed_sections": []
    },
    "kernelspec": {
      "name": "python3",
      "display_name": "Python 3"
    }
  },
  "cells": [
    {
      "cell_type": "markdown",
      "metadata": {
        "id": "1lMbN8DjpzfN"
      },
      "source": [
        "# Teste de Hipótese\n",
        "\n",
        "Considere o banco de dados `aluguel_bicicleta.csv` contendo informações sobre vários aluguéis de bicicleta em um determinado período. Queremos  verificar o seguinte: **o aluguel de bicicletas é dependente dos dias úteis ou não?** Em outras palavras, queremos saber se o número de bicicleta alugadas em dias de trabalho é diferente do número de bicicletas alugadas aos finais de semana.\n",
        "\n",
        "### Definindo as hipóteses:\n",
        "\n",
        "* $H_0$: $\\mu_1 = \\mu_2$  (Hipótese nula) \n",
        "* $H_1$: $\\mu_1 > \\mu_2$  (Hipótese alternativa)\n",
        "\n",
        "Definindo que $\\mu_1$ é a média de aluguéis de bicicleta em dias úteis e que $\\mu_2$ é a média de aluguéis de bicicleta em fins de semana.\n",
        "\n",
        "\n",
        "---\n",
        "\n",
        "Abaixo importamos as bibliotecas que utilizaremos para lidar com os dados e executar os cálculos necessários."
      ]
    },
    {
      "cell_type": "code",
      "metadata": {
        "id": "Jjkyb1o1diik"
      },
      "source": [
        "import pandas as pd                 #biblioteca pra lidar com os dados\n",
        "import datetime as dt               #biblioteca pra mexer com as datas/horários da tabela\n",
        "import numpy as np                  #biblioteca para contas\n",
        "import matplotlib.pyplot as plt     #biblioteca de plotar gráficos\n",
        "from scipy import stats             #biblioteca de estatistica"
      ],
      "execution_count": 1,
      "outputs": []
    },
    {
      "cell_type": "markdown",
      "metadata": {
        "id": "1l16Qqo2q_QS"
      },
      "source": [
        "No próximo trecho recebemos os dados e filtramos apenas aqueles que são relevantes para este problema."
      ]
    },
    {
      "cell_type": "code",
      "metadata": {
        "id": "svdQPQCGevu6"
      },
      "source": [
        "lista_base = pd.read_csv('aluguel_bicicleta.csv', delimiter=',')    #recebe dados\n",
        "lista_base = lista_base.loc[:,['datetime','workingday','count']]    #filtra colunas"
      ],
      "execution_count": 2,
      "outputs": []
    },
    {
      "cell_type": "markdown",
      "metadata": {
        "id": "cUTxdWzBs7sz"
      },
      "source": [
        "As informações de tempo dos dados estão discriminadas por dia e horário. Para este trabalho apenas os dias são relevantes. O próximo trecho de código agrupa as informações por dia."
      ]
    },
    {
      "cell_type": "code",
      "metadata": {
        "id": "IRoWQCGwpyJw",
        "outputId": "a844255e-957d-4200-d407-74ccb771108c",
        "colab": {
          "base_uri": "https://localhost:8080/"
        }
      },
      "source": [
        "lista_base['datetime'] = pd.to_datetime(lista_base['datetime'])                     #converte para o tipo de dado \"datetime\"\n",
        "dates = lista_base['datetime'].dt.floor('D')                                        #agrupa os dias\n",
        "lista_dias = lista_base.groupby(dates)['workingday','count'].sum().reset_index()    #soma os alugueis de cada hora por dia"
      ],
      "execution_count": 3,
      "outputs": [
        {
          "output_type": "stream",
          "text": [
            "/usr/local/lib/python3.6/dist-packages/ipykernel_launcher.py:3: FutureWarning: Indexing with multiple keys (implicitly converted to a tuple of keys) will be deprecated, use a list instead.\n",
            "  This is separate from the ipykernel package so we can avoid doing imports until\n"
          ],
          "name": "stderr"
        }
      ]
    },
    {
      "cell_type": "markdown",
      "metadata": {
        "id": "7fTVpUxU2gPe"
      },
      "source": [
        "Dividindo os dados em duas subtabelas: dias úteis e dias não-úteis."
      ]
    },
    {
      "cell_type": "code",
      "metadata": {
        "id": "UfcFwYnO1P90"
      },
      "source": [
        "workingdays = lista_dias[lista_dias['workingday'] != 0].loc[:,['count']]     #dados dos dias úteis\n",
        "nonworkdays = lista_dias[lista_dias['workingday'] == 0].loc[:,['count']]     #dados dos dias inúteis"
      ],
      "execution_count": 4,
      "outputs": []
    },
    {
      "cell_type": "markdown",
      "metadata": {
        "id": "nvg5YkLezY8t"
      },
      "source": [
        "Fazendo o teste de Levene sobre as duas amostras."
      ]
    },
    {
      "cell_type": "code",
      "metadata": {
        "id": "WjKuGv3p3WXK",
        "outputId": "0da3c27b-88f6-4be4-b57d-d88c196adbaf",
        "colab": {
          "base_uri": "https://localhost:8080/"
        }
      },
      "source": [
        "stat, p = stats.levene(workingdays['count'],nonworkdays['count'])   #teste de levene\n",
        "print(stat,p)"
      ],
      "execution_count": 5,
      "outputs": [
        {
          "output_type": "stream",
          "text": [
            "1.1696924154089139 0.28003858261286085\n"
          ],
          "name": "stdout"
        }
      ]
    },
    {
      "cell_type": "markdown",
      "metadata": {
        "id": "NXfpmWEE8zk3"
      },
      "source": [
        "Agora vamos calcular o desvio padrão de cada amostra:\n",
        "\n",
        "$$S = \\sqrt{\\frac{\\sum\\limits_{i=1}^{n}(x_i - M)^2}{n}}$$\n",
        "\n",
        "* $S$ é o desvio padrão\n",
        "\n",
        "* $x_i$ é cada elemento da amostra com $n$ elementos\n",
        "\n",
        "* $M$ é a média aritmética das amostras\n",
        "\n",
        "\n",
        "No código abaixo `S1` é o desvio padrão dos dias úteis e `S2` é o desvio padrão dos dias não-úteis."
      ]
    },
    {
      "cell_type": "code",
      "metadata": {
        "id": "cdZEJWat85zq",
        "outputId": "641b2962-9762-479b-a677-5a8b7f5f0ac5",
        "colab": {
          "base_uri": "https://localhost:8080/"
        }
      },
      "source": [
        "#Desvio Padrão da Amostra dos dias úteis\n",
        "M1 = workingdays['count'].mean()        #média de alugueis dos dias úteis\n",
        "n1 = len(workingdays['count'])          #quantidade de dias úteis\n",
        "S1 = 0\n",
        "for x in workingdays['count']:          #somatorio\n",
        "    S1 = S1 + np.power((x - M1),2)\n",
        "S1 = S1/n1                              #desvio padrão S1 ao quadrado\n",
        "S1 = np.sqrt(S1)\n",
        "print(S1)\n",
        "\n",
        "\n",
        "#Desvio Padrão da Amostra dos dias inúteis\n",
        "M2 = nonworkdays['count'].mean()        #média de alugueis dos dias inúteis\n",
        "n2 = len(nonworkdays['count'])          #quantidade de dias inúteis\n",
        "S2 = 0\n",
        "for x in nonworkdays['count']:          #somatorio\n",
        "    S2 = S2 + np.power((x - M2),2)\n",
        "S2 = S2/n2                              #desvio padrão S2 ao quadrado\n",
        "S2 = np.sqrt(S2)\n",
        "print(S2)"
      ],
      "execution_count": 7,
      "outputs": [
        {
          "output_type": "stream",
          "text": [
            "1826.1223267476225\n",
            "1949.6338849087294\n"
          ],
          "name": "stdout"
        }
      ]
    },
    {
      "cell_type": "markdown",
      "metadata": {
        "id": "yKcrQemxINTH"
      },
      "source": [
        "Calcula a estimativa\n",
        "\n",
        "$$ S = \\frac{(n_1 - 1)S_1 + (n_2 - 1)S_2}{n_1 + n_2 -2}$$\n",
        "\n",
        "* $S$ é a variância agrupada (pooled variance)\n",
        "* $S_1$ é o desvio padrão da amostra 1 e $S_2$ é o desvio padrão da amostra 2\n",
        "* $n_1$ e $n_2$ é a quantidade de elementos da amostra 1 e 2, respectivamente"
      ]
    },
    {
      "cell_type": "code",
      "metadata": {
        "id": "JFNmc_01ELiX",
        "outputId": "6a3ef647-3ee2-4477-c48a-d4e7f16150f8",
        "colab": {
          "base_uri": "https://localhost:8080/"
        }
      },
      "source": [
        "df = (n1 + n2 -2)                           #grau de liberdade\n",
        "S  = (((n1 - 1)*S1) + ((n2 - 1)* S2))/df    #variância agrupada (quando a amostra tem variância igual)\n",
        "print(S)"
      ],
      "execution_count": 12,
      "outputs": [
        {
          "output_type": "stream",
          "text": [
            "1865.2977989396916\n"
          ],
          "name": "stdout"
        }
      ]
    },
    {
      "cell_type": "markdown",
      "metadata": {
        "id": "4dRFD8LMwuhc"
      },
      "source": [
        "Fazendo o t-teste:\n",
        "\n",
        "$$\n",
        "    t = \\frac{M_1 - M_2}{\\sqrt{\\frac{S_1^2}{n_1} + \\frac{S_2^2}{n_2}}}\n",
        "$$"
      ]
    },
    {
      "cell_type": "code",
      "metadata": {
        "id": "jE82EgeZJkrY",
        "outputId": "22fd77b1-acad-443c-910a-aaeaf93dc12d",
        "colab": {
          "base_uri": "https://localhost:8080/"
        }
      },
      "source": [
        "t = (M1 - M2)/np.sqrt((pow(S1,2)/n1) + (pow(S2,2)/n2))  #calcula o t-teste\n",
        "\n",
        "print(t)"
      ],
      "execution_count": 11,
      "outputs": [
        {
          "output_type": "stream",
          "text": [
            "0.4352691641055156\n"
          ],
          "name": "stdout"
        }
      ]
    },
    {
      "cell_type": "code",
      "metadata": {
        "id": "9or8hD7zEZoo",
        "outputId": "25623f72-8604-4fa0-c73d-daa32806cb6b",
        "colab": {
          "base_uri": "https://localhost:8080/"
        }
      },
      "source": [
        "#pegando o valor base da tabela para o grau de liberdade deste problema   \n",
        "stats.t.ppf(q=.05,df=df)        #right tailed test"
      ],
      "execution_count": null,
      "outputs": [
        {
          "output_type": "execute_result",
          "data": {
            "text/plain": [
              "-1.648216847484026"
            ]
          },
          "metadata": {
            "tags": []
          },
          "execution_count": 36
        }
      ]
    }
  ]
}